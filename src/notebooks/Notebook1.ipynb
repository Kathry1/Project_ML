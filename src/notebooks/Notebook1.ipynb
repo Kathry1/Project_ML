{
 "cells": [
  {
   "cell_type": "code",
   "execution_count": 5,
   "metadata": {},
   "outputs": [
    {
     "ename": "ParserError",
     "evalue": "Error tokenizing data. C error: Expected 14 fields in line 3, saw 15\n",
     "output_type": "error",
     "traceback": [
      "\u001b[1;31m---------------------------------------------------------------------------\u001b[0m",
      "\u001b[1;31mParserError\u001b[0m                               Traceback (most recent call last)",
      "Cell \u001b[1;32mIn[5], line 2\u001b[0m\n\u001b[0;32m      1\u001b[0m \u001b[38;5;28;01mimport\u001b[39;00m\u001b[38;5;250m \u001b[39m\u001b[38;5;21;01mpandas\u001b[39;00m\u001b[38;5;250m \u001b[39m\u001b[38;5;28;01mas\u001b[39;00m\u001b[38;5;250m \u001b[39m\u001b[38;5;21;01mpd\u001b[39;00m\n\u001b[1;32m----> 2\u001b[0m df \u001b[38;5;241m=\u001b[39m \u001b[43mpd\u001b[49m\u001b[38;5;241;43m.\u001b[39;49m\u001b[43mread_csv\u001b[49m\u001b[43m(\u001b[49m\u001b[38;5;124;43m\"\u001b[39;49m\u001b[38;5;124;43m./data/subject-info.csv\u001b[39;49m\u001b[38;5;124;43m\"\u001b[39;49m\u001b[43m)\u001b[49m\n\u001b[0;32m      3\u001b[0m \u001b[38;5;28mprint\u001b[39m(df\u001b[38;5;241m.\u001b[39mhead())\n",
      "File \u001b[1;32mc:\\Users\\kthfu\\AppData\\Local\\Programs\\Python\\Python311\\Lib\\site-packages\\pandas\\io\\parsers\\readers.py:1026\u001b[0m, in \u001b[0;36mread_csv\u001b[1;34m(filepath_or_buffer, sep, delimiter, header, names, index_col, usecols, dtype, engine, converters, true_values, false_values, skipinitialspace, skiprows, skipfooter, nrows, na_values, keep_default_na, na_filter, verbose, skip_blank_lines, parse_dates, infer_datetime_format, keep_date_col, date_parser, date_format, dayfirst, cache_dates, iterator, chunksize, compression, thousands, decimal, lineterminator, quotechar, quoting, doublequote, escapechar, comment, encoding, encoding_errors, dialect, on_bad_lines, delim_whitespace, low_memory, memory_map, float_precision, storage_options, dtype_backend)\u001b[0m\n\u001b[0;32m   1013\u001b[0m kwds_defaults \u001b[38;5;241m=\u001b[39m _refine_defaults_read(\n\u001b[0;32m   1014\u001b[0m     dialect,\n\u001b[0;32m   1015\u001b[0m     delimiter,\n\u001b[1;32m   (...)\u001b[0m\n\u001b[0;32m   1022\u001b[0m     dtype_backend\u001b[38;5;241m=\u001b[39mdtype_backend,\n\u001b[0;32m   1023\u001b[0m )\n\u001b[0;32m   1024\u001b[0m kwds\u001b[38;5;241m.\u001b[39mupdate(kwds_defaults)\n\u001b[1;32m-> 1026\u001b[0m \u001b[38;5;28;01mreturn\u001b[39;00m \u001b[43m_read\u001b[49m\u001b[43m(\u001b[49m\u001b[43mfilepath_or_buffer\u001b[49m\u001b[43m,\u001b[49m\u001b[43m \u001b[49m\u001b[43mkwds\u001b[49m\u001b[43m)\u001b[49m\n",
      "File \u001b[1;32mc:\\Users\\kthfu\\AppData\\Local\\Programs\\Python\\Python311\\Lib\\site-packages\\pandas\\io\\parsers\\readers.py:626\u001b[0m, in \u001b[0;36m_read\u001b[1;34m(filepath_or_buffer, kwds)\u001b[0m\n\u001b[0;32m    623\u001b[0m     \u001b[38;5;28;01mreturn\u001b[39;00m parser\n\u001b[0;32m    625\u001b[0m \u001b[38;5;28;01mwith\u001b[39;00m parser:\n\u001b[1;32m--> 626\u001b[0m     \u001b[38;5;28;01mreturn\u001b[39;00m \u001b[43mparser\u001b[49m\u001b[38;5;241;43m.\u001b[39;49m\u001b[43mread\u001b[49m\u001b[43m(\u001b[49m\u001b[43mnrows\u001b[49m\u001b[43m)\u001b[49m\n",
      "File \u001b[1;32mc:\\Users\\kthfu\\AppData\\Local\\Programs\\Python\\Python311\\Lib\\site-packages\\pandas\\io\\parsers\\readers.py:1923\u001b[0m, in \u001b[0;36mTextFileReader.read\u001b[1;34m(self, nrows)\u001b[0m\n\u001b[0;32m   1916\u001b[0m nrows \u001b[38;5;241m=\u001b[39m validate_integer(\u001b[38;5;124m\"\u001b[39m\u001b[38;5;124mnrows\u001b[39m\u001b[38;5;124m\"\u001b[39m, nrows)\n\u001b[0;32m   1917\u001b[0m \u001b[38;5;28;01mtry\u001b[39;00m:\n\u001b[0;32m   1918\u001b[0m     \u001b[38;5;66;03m# error: \"ParserBase\" has no attribute \"read\"\u001b[39;00m\n\u001b[0;32m   1919\u001b[0m     (\n\u001b[0;32m   1920\u001b[0m         index,\n\u001b[0;32m   1921\u001b[0m         columns,\n\u001b[0;32m   1922\u001b[0m         col_dict,\n\u001b[1;32m-> 1923\u001b[0m     ) \u001b[38;5;241m=\u001b[39m \u001b[38;5;28;43mself\u001b[39;49m\u001b[38;5;241;43m.\u001b[39;49m\u001b[43m_engine\u001b[49m\u001b[38;5;241;43m.\u001b[39;49m\u001b[43mread\u001b[49m\u001b[43m(\u001b[49m\u001b[43m  \u001b[49m\u001b[38;5;66;43;03m# type: ignore[attr-defined]\u001b[39;49;00m\n\u001b[0;32m   1924\u001b[0m \u001b[43m        \u001b[49m\u001b[43mnrows\u001b[49m\n\u001b[0;32m   1925\u001b[0m \u001b[43m    \u001b[49m\u001b[43m)\u001b[49m\n\u001b[0;32m   1926\u001b[0m \u001b[38;5;28;01mexcept\u001b[39;00m \u001b[38;5;167;01mException\u001b[39;00m:\n\u001b[0;32m   1927\u001b[0m     \u001b[38;5;28mself\u001b[39m\u001b[38;5;241m.\u001b[39mclose()\n",
      "File \u001b[1;32mc:\\Users\\kthfu\\AppData\\Local\\Programs\\Python\\Python311\\Lib\\site-packages\\pandas\\io\\parsers\\c_parser_wrapper.py:234\u001b[0m, in \u001b[0;36mCParserWrapper.read\u001b[1;34m(self, nrows)\u001b[0m\n\u001b[0;32m    232\u001b[0m \u001b[38;5;28;01mtry\u001b[39;00m:\n\u001b[0;32m    233\u001b[0m     \u001b[38;5;28;01mif\u001b[39;00m \u001b[38;5;28mself\u001b[39m\u001b[38;5;241m.\u001b[39mlow_memory:\n\u001b[1;32m--> 234\u001b[0m         chunks \u001b[38;5;241m=\u001b[39m \u001b[38;5;28;43mself\u001b[39;49m\u001b[38;5;241;43m.\u001b[39;49m\u001b[43m_reader\u001b[49m\u001b[38;5;241;43m.\u001b[39;49m\u001b[43mread_low_memory\u001b[49m\u001b[43m(\u001b[49m\u001b[43mnrows\u001b[49m\u001b[43m)\u001b[49m\n\u001b[0;32m    235\u001b[0m         \u001b[38;5;66;03m# destructive to chunks\u001b[39;00m\n\u001b[0;32m    236\u001b[0m         data \u001b[38;5;241m=\u001b[39m _concatenate_chunks(chunks)\n",
      "File \u001b[1;32mparsers.pyx:838\u001b[0m, in \u001b[0;36mpandas._libs.parsers.TextReader.read_low_memory\u001b[1;34m()\u001b[0m\n",
      "File \u001b[1;32mparsers.pyx:905\u001b[0m, in \u001b[0;36mpandas._libs.parsers.TextReader._read_rows\u001b[1;34m()\u001b[0m\n",
      "File \u001b[1;32mparsers.pyx:874\u001b[0m, in \u001b[0;36mpandas._libs.parsers.TextReader._tokenize_rows\u001b[1;34m()\u001b[0m\n",
      "File \u001b[1;32mparsers.pyx:891\u001b[0m, in \u001b[0;36mpandas._libs.parsers.TextReader._check_tokenize_status\u001b[1;34m()\u001b[0m\n",
      "File \u001b[1;32mparsers.pyx:2061\u001b[0m, in \u001b[0;36mpandas._libs.parsers.raise_parser_error\u001b[1;34m()\u001b[0m\n",
      "\u001b[1;31mParserError\u001b[0m: Error tokenizing data. C error: Expected 14 fields in line 3, saw 15\n"
     ]
    }
   ],
   "source": [
    "import pandas as pd\n",
    "df = pd.read_csv(\"./data/subject-info.csv\")\n",
    "print(df.head())\n"
   ]
  },
  {
   "cell_type": "code",
   "execution_count": 6,
   "metadata": {},
   "outputs": [
    {
     "name": "stdout",
     "output_type": "stream",
     "text": [
      "['subject-info.csv']\n"
     ]
    }
   ],
   "source": [
    "import os\n",
    "print(os.listdir(\"./data\"))\n"
   ]
  },
  {
   "cell_type": "code",
   "execution_count": 7,
   "metadata": {},
   "outputs": [
    {
     "name": "stdout",
     "output_type": "stream",
     "text": [
      "Patient ID;Follow-up period from enrollment (days);days_4years;Exit of the study;Cause of death;Age;Gender (male=1);Weight (kg);Height (cm);Body Mass Index (Kg/m2);NYHA class;Diastolic blood  pressure (mmHg);Systolic blood pressure (mmHg);HF etiology - Diagnosis;Diabetes (yes=1);History of dyslipemia (yes=1);Peripheral vascular disease (yes=1);History of hypertension (yes=1);Prior Myocardial Infarction (yes=1);Prior implantable device;Prior Revascularization;Syncope;daily smoking (cigarretes/day);smoke-free time (years);cigarettes /year;alcohol consumption (standard units);Albumin (g/L);ALT or GPT (IU/L);AST or GOT (IU/L);Normalized Troponin;Total Cholesterol (mmol/L);Creatinine (?mol/L);Gamma-glutamil transpeptidase (IU/L);Glucose (mmol/L);Hemoglobin (g/L);HDL (mmol/L);Potassium (mEq/L);LDL (mmol/L);Sodium (mEq/L);Pro-BNP (ng/L);Protein (g/L);T3 (pg/dL);T4 (ng/L);Troponin (ng/mL);TSH (mIU/L);Urea (mg/dL);Signs of pulmonary venous hypertension (yes=1);Cardiothoracic ratio;Left atrial size (mm);Right ventricle contractility (altered=1);Right ventricle end-diastolic diameter (mm);LVEF (%);Mitral valve insufficiency ;Mitral flow pattern;Left ventricular posterior wall thickness (mm);Septal thickness (mm);Left ventricle end-diastolic diameter (mm);Left ventricle end-systolic diameter (mm);Hig-resolution ECG available;ECG rhythm ;Q-waves (necrosis, yes=1);PR interval (ms);QRS duration (ms);QRS > 120 ms ;QT interval (ms);QT corrected ;Average RR (ms) ;Left ventricular hypertrophy (yes=1);Intraventricular conduction disorder;Holter available;Holter onset (hh:mm:ss);Holter  rhythm ;minimum RR (ms) ;Average RR (ms);maximum RR (ms);RR range (ms);Number of ventricular premature beats in 24h;Extrasystole couplets ;Ventricular Extrasystole;Ventricular Tachycardia;Number of ventricular premature contractions per hour;Non-sustained ventricular tachycardia (CH>10);Number of supraventricular premature beats in 24h;Paroxysmal supraventricular tachyarrhythmia;Longest RR pause (ms);Bradycardia;SDNN (ms);SDANN (ms);RMSSD (ms);pNN50 (%);Calcium channel blocker (yes=1);Diabetes medication (yes=1);Amiodarone (yes=1);Angiotensin-II receptor blocker (yes=1);Anticoagulants/antitrombotics  (yes=1);Betablockers (yes=1);Digoxin (yes=1);Loop diuretics (yes=1);Spironolactone (yes=1);Statins (yes=1);Hidralazina (yes=1);ACE inhibitor (yes=1);Nitrovasodilator (yes=1)\n",
      "\n",
      "P0001;2065;1460;;0;58;1;83;163;31,2;3;75;110;1;0;0;0;0;0;0;0;0;20;20;160600;0;42,4;10;20;1;5,4;106;20;5,7;132;1,29;4,6;3,36;141;1834;69;0,05;15;0,01;3,02;7,12;1;0,55;50;0;24;35;3;9;10;10;72;60;1;1;0;999;132;1;448;425;1111;0;2;1;NA;1;375;984;2143;1768;2700;10;2;1;112,5;1;999;9;3840;;;;;;0;0;0;0;1;1;1;1;0;0;0;1;0\n",
      "\n",
      "P0002;2045;1460;;0;58;1;74;160;28,9;2;80;130;2;0;1;0;0;1;0;1;0;20;1;292000;10;40,4;20;20;1;6,18;121;44;5,6;126;0,98;4,6;4,06;140;570;75;0,04;12;0,01;3,27;10,47;0;0,52;39;0;24;35;1;0;12;14;54;38;1;0;1;206;110;0;440;406;1176;0;1;1;'11:38:43';0;390;682;1154;764;12;0;1;0;0;0;7;0;;0;117;110;10,9;0,2;0;0;0;1;1;1;0;0;0;1;0;0;0\n",
      "\n",
      "P0003;2044;1460;;0;69;1;83;174;27,4;2;75;100;1;0;0;0;0;0;0;0;0;15;9;246375;13;40,1;23;28;1;5,3;87;25;5,7;132;2,04;4,7;2,97;138;403;76;0,05;13;0,01;0,93;10,02;0;0,52;41;0;20;39;1;9;9;10;55;44;1;1;0;999;84;0;336;438;588;0;0;1;NA;1;300;667;1622;1322;1854;92;2;1;77,25;1;999;9;2315;;;;;;0;0;0;1;1;1;1;1;0;0;0;0;0\n",
      "\n",
      "P0004;2044;1460;;0;56;0;84;165;30,9;2;75;155;8;1;1;0;1;0;0;0;0;0;0;0;0;40,9;24;23;1;6,21;77;37;17,8;127;1,03;4,3;3,49;136;695;72;0,05;16;0,01;2,07;8,91;0;0,57;43;0;24;38;1;2;13;11;56;46;1;0;0;202;152;1;440;465;896;0;2;1;'11:8:39';0;561;845;1154;593;1;0;1;0;0;0;17;1;;0;79;65;28,9;2,3;0;1;0;1;1;1;0;1;1;0;0;0;0\n",
      "\n"
     ]
    }
   ],
   "source": [
    "import pandas as pd\n",
    "\n",
    "with open(\"./data/subject-info.csv\", \"r\", encoding=\"utf-8\") as f:\n",
    "    for i in range(5):  # Zeige die ersten 5 Zeilen\n",
    "        print(f.readline())\n"
   ]
  },
  {
   "cell_type": "code",
   "execution_count": 8,
   "metadata": {},
   "outputs": [
    {
     "name": "stdout",
     "output_type": "stream",
     "text": [
      "  Patient ID  Follow-up period from enrollment (days)  days_4years  \\\n",
      "0      P0001                                     2065         1460   \n",
      "1      P0002                                     2045         1460   \n",
      "2      P0003                                     2044         1460   \n",
      "3      P0004                                     2044         1460   \n",
      "4      P0005                                     2043         1460   \n",
      "\n",
      "   Exit of the study  Cause of death Age  Gender (male=1)  Weight (kg)  \\\n",
      "0                NaN               0  58                1           83   \n",
      "1                NaN               0  58                1           74   \n",
      "2                NaN               0  69                1           83   \n",
      "3                NaN               0  56                0           84   \n",
      "4                NaN               0  70                1           97   \n",
      "\n",
      "   Height (cm) Body Mass Index (Kg/m2)  ...  \\\n",
      "0          163                    31,2  ...   \n",
      "1          160                    28,9  ...   \n",
      "2          174                    27,4  ...   \n",
      "3          165                    30,9  ...   \n",
      "4          183                      29  ...   \n",
      "\n",
      "   Angiotensin-II receptor blocker (yes=1)  \\\n",
      "0                                        0   \n",
      "1                                        1   \n",
      "2                                        1   \n",
      "3                                        1   \n",
      "4                                        0   \n",
      "\n",
      "   Anticoagulants/antitrombotics  (yes=1)  Betablockers (yes=1)  \\\n",
      "0                                       1                     1   \n",
      "1                                       1                     1   \n",
      "2                                       1                     1   \n",
      "3                                       1                     1   \n",
      "4                                       1                     1   \n",
      "\n",
      "   Digoxin (yes=1)  Loop diuretics (yes=1)  Spironolactone (yes=1)  \\\n",
      "0                1                       1                       0   \n",
      "1                0                       0                       0   \n",
      "2                1                       1                       0   \n",
      "3                0                       1                       1   \n",
      "4                0                       1                       0   \n",
      "\n",
      "   Statins (yes=1)  Hidralazina (yes=1)  ACE inhibitor (yes=1)  \\\n",
      "0                0                    0                      1   \n",
      "1                1                    0                      0   \n",
      "2                0                    0                      0   \n",
      "3                0                    0                      0   \n",
      "4                1                    0                      1   \n",
      "\n",
      "   Nitrovasodilator (yes=1)  \n",
      "0                         0  \n",
      "1                         0  \n",
      "2                         0  \n",
      "3                         0  \n",
      "4                         1  \n",
      "\n",
      "[5 rows x 103 columns]\n"
     ]
    }
   ],
   "source": [
    "import pandas as pd\n",
    "\n",
    "df = pd.read_csv(\"./data/subject-info.csv\", sep=\";\", encoding=\"utf-8\")\n",
    "print(df.head())\n"
   ]
  },
  {
   "cell_type": "code",
   "execution_count": null,
   "metadata": {},
   "outputs": [],
   "source": []
  },
  {
   "cell_type": "code",
   "execution_count": null,
   "metadata": {},
   "outputs": [],
   "source": []
  },
  {
   "cell_type": "code",
   "execution_count": null,
   "metadata": {},
   "outputs": [],
   "source": []
  },
  {
   "cell_type": "code",
   "execution_count": null,
   "metadata": {},
   "outputs": [],
   "source": []
  }
 ],
 "metadata": {
  "kernelspec": {
   "display_name": "Python 3",
   "language": "python",
   "name": "python3"
  },
  "language_info": {
   "codemirror_mode": {
    "name": "ipython",
    "version": 3
   },
   "file_extension": ".py",
   "mimetype": "text/x-python",
   "name": "python",
   "nbconvert_exporter": "python",
   "pygments_lexer": "ipython3",
   "version": "3.11.9"
  }
 },
 "nbformat": 4,
 "nbformat_minor": 2
}
