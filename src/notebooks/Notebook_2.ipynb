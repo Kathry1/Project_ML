{
 "cells": [
  {
   "cell_type": "code",
   "execution_count": 1,
   "metadata": {},
   "outputs": [
    {
     "name": "stdout",
     "output_type": "stream",
     "text": [
      "  Patient ID  Follow-up period from enrollment (days)  days_4years  \\\n",
      "0      P0001                                     2065         1460   \n",
      "1      P0002                                     2045         1460   \n",
      "2      P0003                                     2044         1460   \n",
      "3      P0004                                     2044         1460   \n",
      "4      P0005                                     2043         1460   \n",
      "\n",
      "   Exit of the study  Cause of death Age  Gender (male=1)  Weight (kg)  \\\n",
      "0                NaN               0  58                1           83   \n",
      "1                NaN               0  58                1           74   \n",
      "2                NaN               0  69                1           83   \n",
      "3                NaN               0  56                0           84   \n",
      "4                NaN               0  70                1           97   \n",
      "\n",
      "   Height (cm) Body Mass Index (Kg/m2)  ...  \\\n",
      "0          163                    31,2  ...   \n",
      "1          160                    28,9  ...   \n",
      "2          174                    27,4  ...   \n",
      "3          165                    30,9  ...   \n",
      "4          183                      29  ...   \n",
      "\n",
      "   Angiotensin-II receptor blocker (yes=1)  \\\n",
      "0                                        0   \n",
      "1                                        1   \n",
      "2                                        1   \n",
      "3                                        1   \n",
      "4                                        0   \n",
      "\n",
      "   Anticoagulants/antitrombotics  (yes=1)  Betablockers (yes=1)  \\\n",
      "0                                       1                     1   \n",
      "1                                       1                     1   \n",
      "2                                       1                     1   \n",
      "3                                       1                     1   \n",
      "4                                       1                     1   \n",
      "\n",
      "   Digoxin (yes=1)  Loop diuretics (yes=1)  Spironolactone (yes=1)  \\\n",
      "0                1                       1                       0   \n",
      "1                0                       0                       0   \n",
      "2                1                       1                       0   \n",
      "3                0                       1                       1   \n",
      "4                0                       1                       0   \n",
      "\n",
      "   Statins (yes=1)  Hidralazina (yes=1)  ACE inhibitor (yes=1)  \\\n",
      "0                0                    0                      1   \n",
      "1                1                    0                      0   \n",
      "2                0                    0                      0   \n",
      "3                0                    0                      0   \n",
      "4                1                    0                      1   \n",
      "\n",
      "   Nitrovasodilator (yes=1)  \n",
      "0                         0  \n",
      "1                         0  \n",
      "2                         0  \n",
      "3                         0  \n",
      "4                         1  \n",
      "\n",
      "[5 rows x 103 columns]\n"
     ]
    }
   ],
   "source": [
    "import pandas as pd\n",
    "\n",
    "df = pd.read_csv(\"./data/subject-info.csv\", sep=\";\", encoding=\"utf-8\")\n",
    "print(df.head())\n"
   ]
  },
  {
   "cell_type": "code",
   "execution_count": 2,
   "metadata": {},
   "outputs": [
    {
     "name": "stdout",
     "output_type": "stream",
     "text": [
      "<class 'pandas.core.frame.DataFrame'>\n",
      "RangeIndex: 992 entries, 0 to 991\n",
      "Columns: 103 entries, Patient ID to Nitrovasodilator (yes=1)\n",
      "dtypes: float64(30), int64(49), object(24)\n",
      "memory usage: 798.4+ KB\n"
     ]
    },
    {
     "data": {
      "text/plain": [
       "Index(['Patient ID', 'Follow-up period from enrollment (days)', 'days_4years',\n",
       "       'Exit of the study', 'Cause of death', 'Age', 'Gender (male=1)',\n",
       "       'Weight (kg)', 'Height (cm)', 'Body Mass Index (Kg/m2)',\n",
       "       ...\n",
       "       'Angiotensin-II receptor blocker (yes=1)',\n",
       "       'Anticoagulants/antitrombotics  (yes=1)', 'Betablockers (yes=1)',\n",
       "       'Digoxin (yes=1)', 'Loop diuretics (yes=1)', 'Spironolactone (yes=1)',\n",
       "       'Statins (yes=1)', 'Hidralazina (yes=1)', 'ACE inhibitor (yes=1)',\n",
       "       'Nitrovasodilator (yes=1)'],\n",
       "      dtype='object', length=103)"
      ]
     },
     "execution_count": 2,
     "metadata": {},
     "output_type": "execute_result"
    }
   ],
   "source": [
    "df.info()\n",
    "df.shape\n",
    "df.columns"
   ]
  },
  {
   "cell_type": "code",
   "execution_count": 3,
   "metadata": {},
   "outputs": [
    {
     "name": "stdout",
     "output_type": "stream",
     "text": [
      "\n",
      "🔹 Starte Datenbereinigung...\n",
      "✅ Erfolgreich konvertierte Spalten: ['Patient ID', 'Age', 'Body Mass Index (Kg/m2)', 'Albumin (g/L)', 'Normalized Troponin', 'Total Cholesterol (mmol/L)', 'Gamma-glutamil transpeptidase (IU/L)', 'Glucose (mmol/L)', 'Hemoglobin (g/L)', 'HDL (mmol/L)', 'Potassium (mEq/L)', 'LDL (mmol/L)', 'Protein (g/L)', 'T3 (pg/dL)', 'T4 (ng/L)', 'Troponin (ng/mL)', 'TSH (mIU/L)', 'Urea (mg/dL)', 'Cardiothoracic ratio', 'Holter onset (hh:mm:ss)', 'Number of ventricular premature contractions per hour', 'SDNN (ms)', 'RMSSD (ms)', 'pNN50 (%)']\n",
      "⚠️ Nicht konvertierte Spalten (enthielten Text): ['Patient_ID', 'Holter_onset_hhmmss']\n",
      "\n",
      "⚠️ Entferne Spalten mit >30% fehlenden Werten: ['Patient ID', 'Exit of the study', 'T3 (pg/dL)', 'Holter onset (hh:mm:ss)', 'Longest RR pause (ms)', 'Bradycardia', 'SDNN (ms)', 'SDANN (ms)', 'RMSSD (ms)', 'pNN50 (%)']\n",
      "✅ Spaltennamen bereinigt!\n",
      "\n",
      "✅ Datenbereinigung abgeschlossen!\n"
     ]
    }
   ],
   "source": [
    "import pandas as pd\n",
    "import numpy as np\n",
    "\n",
    "def clean_data(df):\n",
    "    print(\"\\n🔹 Starte Datenbereinigung...\")\n",
    "    \n",
    "    # 1. Entferne doppelte Spaltennamen, falls vorhanden\n",
    "    df = df.loc[:, ~df.columns.duplicated()].copy()\n",
    "    \n",
    "    # 2. Identifiziere nicht-numerische Spalten\n",
    "    problematic_columns = df.select_dtypes(include=['object']).columns.tolist()\n",
    "    \n",
    "    # 3. Entferne nicht-numerische Spalten aus der Konvertierungsliste\n",
    "    exclude_columns = [\"Patient_ID\", \"Holter_onset_hhmmss\"]  # Falls weitere nötig sind, ergänzen\n",
    "    convertible_columns = [col for col in problematic_columns if col not in exclude_columns]\n",
    "    \n",
    "    # 4. Ersetze Kommas durch Punkte und konvertiere zu Float\n",
    "    for col in convertible_columns:\n",
    "        df[col] = df[col].str.replace(',', '.').str.strip()\n",
    "        df[col] = pd.to_numeric(df[col], errors='coerce')  # Setzt nicht konvertierbare Werte auf NaN\n",
    "    \n",
    "    print(f\"✅ Erfolgreich konvertierte Spalten: {convertible_columns}\")\n",
    "    print(f\"⚠️ Nicht konvertierte Spalten (enthielten Text): {exclude_columns}\")\n",
    "    \n",
    "    # 5. Fehlende Werte behandeln\n",
    "    missing_values = df.isnull().sum()\n",
    "    high_missing = missing_values[missing_values > 0.3 * len(df)].index.tolist()\n",
    "    print(f\"\\n⚠️ Entferne Spalten mit >30% fehlenden Werten: {high_missing}\")\n",
    "    df.drop(columns=high_missing, inplace=True)\n",
    "    df.fillna(df.median(), inplace=True)  # Verbleibende NaN mit Median ersetzen\n",
    "    \n",
    "    # 6. Spaltennamen bereinigen\n",
    "    df.columns = df.columns.str.replace(r\"[^A-Za-z0-9_]\", \"\", regex=True)\n",
    "    df.columns = df.columns.str.replace(r\"_+\", \"_\", regex=True).str.strip(\"_\")\n",
    "    print(\"✅ Spaltennamen bereinigt!\")\n",
    "    \n",
    "    print(\"\\n✅ Datenbereinigung abgeschlossen!\")\n",
    "    return df\n",
    "\n",
    "# Bereinigte Daten abrufen\n",
    "df = clean_data(df)"
   ]
  },
  {
   "cell_type": "code",
   "execution_count": null,
   "metadata": {},
   "outputs": [],
   "source": []
  },
  {
   "cell_type": "code",
   "execution_count": null,
   "metadata": {},
   "outputs": [],
   "source": [
    "import pandas as pd\n",
    "import numpy as np\n",
    "\n",
    "# 🔹 Funktion zur vollständigen Datenbereinigung\n",
    "def clean_data(df):\n",
    "    print(\"\\n🔷 Starte Datenbereinigung...\")\n",
    "\n",
    "    # 🔹 1. Entferne doppelte Spaltennamen, falls vorhanden\n",
    "    df = df.loc[:, ~df.columns.duplicated()].copy()\n",
    "\n",
    "    # 🔹 2. Falls 'Average_RR_ms' zwei Spalten enthält, korrekt aufteilen\n",
    "    if \"Average_RR_ms\" in df.columns:\n",
    "        if isinstance(df[\"Average_RR_ms\"], pd.DataFrame):\n",
    "            df[\"Average_RR_1_ms\"] = df[\"Average_RR_ms\"].iloc[:, 0]\n",
    "            df[\"Average_RR_2_ms\"] = df[\"Average_RR_ms\"].iloc[:, 1]\n",
    "            df.drop(columns=[\"Average_RR_ms\"], inplace=True)\n",
    "            print(\"✅ 'Average_RR_ms' erfolgreich aufgeteilt in zwei Spalten!\")\n",
    "\n",
    "    # 🔹 3. Problematische numerische Spalten bereinigen\n",
    "    problematic_columns = df.select_dtypes(include=['object']).columns\n",
    "\n",
    "    # 🔹 4. Entferne nicht-numerische Spalten aus der Konvertierungsliste\n",
    "    exclude_columns = [\"Patient_ID\", \"Holter_onset_hhmmss\"]\n",
    "    convertible_columns = [col for col in problematic_columns if col not in exclude_columns]\n",
    "\n",
    "    # 🔹 5. Ersetze Kommas durch Punkte und konvertiere nur echte numerische Werte\n",
    "    for col in convertible_columns:\n",
    "        try:\n",
    "            df[col] = df[col].str.replace(',', '.').astype(float)\n",
    "        except ValueError:\n",
    "            print(f\"⚠️ Spalte {col} konnte nicht konvertiert werden und bleibt im Originalformat.\")\n",
    "\n",
    "    print(f\"✅ Erfolgreich konvertierte Spalten: {convertible_columns}\")\n",
    "    print(f\"⚠️ Nicht konvertierte Spalten (enthielten Text): {exclude_columns}\")\n",
    "\n",
    "    # 🔹 6. Fehlende Werte behandeln\n",
    "    missing_values = df.isnull().sum()\n",
    "    high_missing = missing_values[missing_values > 0.3 * len(df)].index.tolist()\n",
    "    print(f\"⚠️ Entferne Spalten mit >30% fehlenden Werten: {high_missing}\")\n",
    "    df.drop(columns=high_missing, inplace=True)\n",
    "    df.fillna(df.median(numeric_only=True), inplace=True)\n",
    "\n",
    "    # 🔹 7. Spaltennamen bereinigen\n",
    "    df.columns = (df.columns\n",
    "        .str.strip()\n",
    "        .str.replace(r\"\\s+\", \"_\", regex=True)  # Ersetze Leerzeichen durch Unterstriche\n",
    "        .str.replace(r\"[^A-Za-z0-9_]\", \"\", regex=True)  # Entferne Sonderzeichen\n",
    "        .str.replace(r\"_+\", \"_\", regex=True)  # Ersetze mehrere Unterstriche durch einen\n",
    "    )\n",
    "\n",
    "    print(\"✅ Spaltennamen bereinigt!\")\n",
    "\n",
    "    print(\"\\n✅ Datenbereinigung abgeschlossen!\")\n",
    "    return df\n",
    "\n",
    "# 🔹 Bereinigte Daten abrufen\n",
    "df = clean_data(df)"
   ]
  },
  {
   "cell_type": "code",
   "execution_count": null,
   "metadata": {},
   "outputs": [],
   "source": []
  },
  {
   "cell_type": "code",
   "execution_count": null,
   "metadata": {},
   "outputs": [],
   "source": []
  },
  {
   "cell_type": "code",
   "execution_count": null,
   "metadata": {},
   "outputs": [],
   "source": []
  },
  {
   "cell_type": "code",
   "execution_count": null,
   "metadata": {},
   "outputs": [],
   "source": []
  },
  {
   "cell_type": "code",
   "execution_count": null,
   "metadata": {},
   "outputs": [],
   "source": []
  },
  {
   "cell_type": "code",
   "execution_count": null,
   "metadata": {},
   "outputs": [],
   "source": []
  },
  {
   "cell_type": "code",
   "execution_count": null,
   "metadata": {},
   "outputs": [],
   "source": []
  },
  {
   "cell_type": "code",
   "execution_count": null,
   "metadata": {},
   "outputs": [],
   "source": []
  }
 ],
 "metadata": {
  "kernelspec": {
   "display_name": "base",
   "language": "python",
   "name": "python3"
  },
  "language_info": {
   "codemirror_mode": {
    "name": "ipython",
    "version": 3
   },
   "file_extension": ".py",
   "mimetype": "text/x-python",
   "name": "python",
   "nbconvert_exporter": "python",
   "pygments_lexer": "ipython3",
   "version": "3.12.7"
  }
 },
 "nbformat": 4,
 "nbformat_minor": 2
}
